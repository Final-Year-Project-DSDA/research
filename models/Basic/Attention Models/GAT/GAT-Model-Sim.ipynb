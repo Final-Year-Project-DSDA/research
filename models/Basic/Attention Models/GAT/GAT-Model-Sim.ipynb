{
 "cells": [
  {
   "cell_type": "code",
   "execution_count": 1,
   "metadata": {},
   "outputs": [],
   "source": [
    "import numpy as np\n",
    "import matplotlib.pyplot as plt\n",
    "import pandas as pd"
   ]
  },
  {
   "cell_type": "code",
   "execution_count": 2,
   "metadata": {},
   "outputs": [],
   "source": [
    "import torch\n",
    "from torch_geometric.datasets import Planetoid\n",
    "from torch_geometric.transforms import NormalizeFeatures"
   ]
  },
  {
   "cell_type": "code",
   "execution_count": 3,
   "metadata": {},
   "outputs": [],
   "source": [
    "# Load the Cora dataset\n",
    "dataset = Planetoid(root='data/Cora', name='Cora', transform=NormalizeFeatures())\n",
    "\n",
    "# Access the data (Cora has only one graph, so we can access it via dataset[0])\n",
    "data = dataset[0]"
   ]
  },
  {
   "cell_type": "code",
   "execution_count": 4,
   "metadata": {},
   "outputs": [
    {
     "name": "stdout",
     "output_type": "stream",
     "text": [
      "Dataset: Cora():\n",
      "Number of graphs: 1\n",
      "Number of features: 1433\n",
      "Number of classes: 7\n",
      "\n",
      "Data object: Data(x=[2708, 1433], edge_index=[2, 10556], y=[2708], train_mask=[2708], val_mask=[2708], test_mask=[2708])\n",
      "Number of nodes: 2708\n",
      "Number of edges: 10556\n",
      "Average node degree: 3.90\n",
      "Number of training nodes: 140\n",
      "Training node label rate: 0.05\n",
      "Contains isolated nodes: False\n",
      "Contains self-loops: False\n",
      "Is undirected: True\n"
     ]
    }
   ],
   "source": [
    "print(f'Dataset: {dataset}:')\n",
    "print(f'Number of graphs: {len(dataset)}')\n",
    "print(f'Number of features: {dataset.num_features}')\n",
    "print(f'Number of classes: {dataset.num_classes}')\n",
    "\n",
    "print(f'\\nData object: {data}')\n",
    "print(f'Number of nodes: {data.num_nodes}')\n",
    "print(f'Number of edges: {data.num_edges}')\n",
    "print(f'Average node degree: {data.num_edges / data.num_nodes:.2f}')\n",
    "print(f'Number of training nodes: {data.train_mask.sum()}')\n",
    "print(f'Training node label rate: {int(data.train_mask.sum()) / data.num_nodes:.2f}')\n",
    "print(f'Contains isolated nodes: {data.has_isolated_nodes()}')\n",
    "print(f'Contains self-loops: {data.has_self_loops()}')\n",
    "print(f'Is undirected: {data.is_undirected()}')"
   ]
  },
  {
   "cell_type": "code",
   "execution_count": 5,
   "metadata": {},
   "outputs": [
    {
     "data": {
      "text/plain": [
       "torch.Size([140])"
      ]
     },
     "execution_count": 5,
     "metadata": {},
     "output_type": "execute_result"
    }
   ],
   "source": [
    "dataset.y[dataset.train_mask].shape"
   ]
  },
  {
   "cell_type": "code",
   "execution_count": 8,
   "metadata": {},
   "outputs": [],
   "source": [
    "from model import GAT\n",
    "gat_model = GAT(in_channels=dataset.num_features, \n",
    "                hid_units=[8, 8],  # Hidden units for each GAT layer\n",
    "                n_heads=[8, 8],  # Number of attention heads per layer\n",
    "                dropout=0.6, \n",
    "                num_classes=dataset.num_classes,\n",
    "                residual=True)"
   ]
  },
  {
   "cell_type": "code",
   "execution_count": 7,
   "metadata": {},
   "outputs": [],
   "source": [
    "# out_channels=dataset.num_classes,"
   ]
  },
  {
   "cell_type": "code",
   "execution_count": 9,
   "metadata": {},
   "outputs": [
    {
     "data": {
      "text/plain": [
       "GAT(\n",
       "  (attentions): ModuleList(\n",
       "    (0): GATConv(1433, 8, heads=8)\n",
       "  )\n",
       "  (hidden_attentions): ModuleList(\n",
       "    (0): GATConv(64, 8, heads=8)\n",
       "  )\n",
       "  (out_attention): GATConv(64, 8, heads=1)\n",
       "  (dense): Linear(in_features=8, out_features=7, bias=True)\n",
       ")"
      ]
     },
     "execution_count": 9,
     "metadata": {},
     "output_type": "execute_result"
    }
   ],
   "source": [
    "gat_model"
   ]
  },
  {
   "cell_type": "code",
   "execution_count": 10,
   "metadata": {},
   "outputs": [],
   "source": [
    "import torch\n",
    "import torch.nn.functional as F\n",
    "from torch_geometric.data import DataLoader\n",
    "from sklearn.metrics import accuracy_score\n",
    "\n",
    "# Function to train the GAT model\n",
    "def train(model, optimizer, data, epochs=200):\n",
    "    model.train()  # Set the model to training mode\n",
    "\n",
    "    for epoch in range(epochs):\n",
    "        optimizer.zero_grad()  # Clear gradients from the previous step\n",
    "        out = model(data)  # Forward pass\n",
    "        loss = F.nll_loss(out[data.train_mask], data.y[data.train_mask])  # Compute loss (Negative Log Likelihood for classification)\n",
    "        loss.backward()  # Backpropagation\n",
    "        optimizer.step()  # Update model parameters\n",
    "\n",
    "        if epoch % 10 == 0:\n",
    "            print(f'Epoch {epoch}, Loss: {loss.item()}')\n",
    "\n",
    "# Function to evaluate the model's performance on validation/test set\n",
    "def evaluate(model, data):\n",
    "    model.eval()  # Set the model to evaluation mode\n",
    "    with torch.no_grad():  # Disable gradient calculations\n",
    "        logits = model(data)  # Forward pass to get logits\n",
    "        preds = logits.argmax(dim=1)  # Get the index of the maximum logit (predicted class)\n",
    "\n",
    "        # Calculate accuracy for train, validation, and test sets\n",
    "        train_acc = accuracy_score(data.y[data.train_mask].cpu(), preds[data.train_mask].cpu())\n",
    "        val_acc = accuracy_score(data.y[data.val_mask].cpu(), preds[data.val_mask].cpu())\n",
    "        test_acc = accuracy_score(data.y[data.test_mask].cpu(), preds[data.test_mask].cpu())\n",
    "\n",
    "    print(f'Train Accuracy: {train_acc:.4f}, Validation Accuracy: {val_acc:.4f}, Test Accuracy: {test_acc:.4f}')\n",
    "\n",
    "    return train_acc, val_acc, test_acc\n"
   ]
  },
  {
   "cell_type": "code",
   "execution_count": 11,
   "metadata": {},
   "outputs": [],
   "source": [
    "from torch.optim import Adam\n",
    "from sklearn.metrics import accuracy_score\n",
    "optimizer = Adam(gat_model.parameters(), lr=0.005, weight_decay=5e-4)"
   ]
  },
  {
   "cell_type": "code",
   "execution_count": 12,
   "metadata": {},
   "outputs": [
    {
     "name": "stdout",
     "output_type": "stream",
     "text": [
      "Epoch 0, Loss: 1.9639253616333008\n",
      "Epoch 10, Loss: 1.8576102256774902\n",
      "Epoch 20, Loss: 1.6442643404006958\n",
      "Epoch 30, Loss: 1.151266098022461\n",
      "Epoch 40, Loss: 0.768291175365448\n",
      "Epoch 50, Loss: 0.6253531575202942\n",
      "Epoch 60, Loss: 0.48335957527160645\n",
      "Epoch 70, Loss: 0.4869670867919922\n",
      "Epoch 80, Loss: 0.48715198040008545\n",
      "Epoch 90, Loss: 0.34549281001091003\n",
      "Epoch 100, Loss: 0.4010072350502014\n",
      "Epoch 110, Loss: 0.4543887674808502\n",
      "Epoch 120, Loss: 0.5482780933380127\n",
      "Epoch 130, Loss: 0.2961910665035248\n",
      "Epoch 140, Loss: 0.26287946105003357\n",
      "Epoch 150, Loss: 0.3747282922267914\n",
      "Epoch 160, Loss: 0.43459755182266235\n",
      "Epoch 170, Loss: 0.28012654185295105\n",
      "Epoch 180, Loss: 0.26574862003326416\n",
      "Epoch 190, Loss: 0.4761897921562195\n",
      "Train Accuracy: 1.0000, Validation Accuracy: 0.7660, Test Accuracy: 0.7760\n"
     ]
    },
    {
     "data": {
      "text/plain": [
       "(1.0, 0.766, 0.776)"
      ]
     },
     "execution_count": 12,
     "metadata": {},
     "output_type": "execute_result"
    }
   ],
   "source": [
    "# Train the model\n",
    "train(gat_model, optimizer, data, epochs=200)\n",
    "\n",
    "# Evaluate the model performance\n",
    "evaluate(gat_model, data)"
   ]
  },
  {
   "cell_type": "code",
   "execution_count": 13,
   "metadata": {},
   "outputs": [
    {
     "name": "stdout",
     "output_type": "stream",
     "text": [
      "Train Accuracy: 1.0000, Validation Accuracy: 0.7660, Test Accuracy: 0.7760\n"
     ]
    }
   ],
   "source": [
    "train_acc, val_acc, test_acc = evaluate(gat_model, data)"
   ]
  }
 ],
 "metadata": {
  "kernelspec": {
   "display_name": ".venv",
   "language": "python",
   "name": "python3"
  },
  "language_info": {
   "codemirror_mode": {
    "name": "ipython",
    "version": 3
   },
   "file_extension": ".py",
   "mimetype": "text/x-python",
   "name": "python",
   "nbconvert_exporter": "python",
   "pygments_lexer": "ipython3",
   "version": "3.12.1"
  }
 },
 "nbformat": 4,
 "nbformat_minor": 2
}
