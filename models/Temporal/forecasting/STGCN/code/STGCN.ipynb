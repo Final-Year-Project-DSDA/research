{
 "cells": [
  {
   "cell_type": "code",
   "execution_count": 1,
   "metadata": {},
   "outputs": [],
   "source": [
    "import numpy as np \n",
    "import pandas as pd\n",
    "import matplotlib as plt"
   ]
  },
  {
   "cell_type": "code",
   "execution_count": 2,
   "metadata": {},
   "outputs": [],
   "source": [
    "import torch\n",
    "import torch.nn as nn\n",
    "import torch.nn.functional as F\n",
    "from torch_geometric.nn import ChebConv  # Chebyshev graph convolution\n",
    "\n",
    "# Spatio-temporal convolution block\n",
    "class STConvBlock(nn.Module):\n",
    "    def __init__(self, in_channels, out_channels, K, num_nodes):\n",
    "        super(STConvBlock, self).__init__()\n",
    "        self.temporal1 = nn.Conv2d(in_channels, out_channels, kernel_size=(1, K), padding=(0, K//2))\n",
    "        self.graph_conv = ChebConv(out_channels, out_channels, K)\n",
    "        self.temporal2 = nn.Conv2d(out_channels, out_channels, kernel_size=(1, K), padding=(0, K//2))\n",
    "        self.num_nodes = num_nodes\n",
    "        self.bn = nn.BatchNorm2d(out_channels)\n",
    "\n",
    "    def forward(self, x, edge_index):\n",
    "        # x: [batch_size, channels, num_nodes, time_steps]\n",
    "        x = F.glu(self.temporal1(x), dim=1)  # First gated temporal conv\n",
    "        x = x.permute(0, 3, 2, 1)  # [batch_size, time_steps, num_nodes, channels]\n",
    "        batch_size, time_steps, num_nodes, out_channels = x.size()\n",
    "\n",
    "        # Graph convolution over each time step\n",
    "        x = x.contiguous().view(batch_size * time_steps, num_nodes, out_channels)  # Reshape to (batch_size * time_steps, num_nodes, out_channels)\n",
    "        x = self.graph_conv(x, edge_index)  # Graph convolution\n",
    "        x = x.view(batch_size, time_steps, num_nodes, out_channels).permute(0, 3, 2, 1)  # Reshape back\n",
    "        \n",
    "        x = F.glu(self.temporal2(x), dim=1)  # Second gated temporal conv\n",
    "        x = self.bn(x)  # Batch norm\n",
    "        return x\n",
    "\n",
    "# Full STGCN Model\n",
    "class STGCN(nn.Module):\n",
    "    def __init__(self, in_channels, out_channels, K, num_nodes, num_blocks):\n",
    "        super(STGCN, self).__init__()\n",
    "        self.blocks = nn.ModuleList([STConvBlock(in_channels, out_channels, K, num_nodes) for _ in range(num_blocks)])\n",
    "        self.final_conv = nn.Conv2d(out_channels, 1, kernel_size=(1, 1))  # Final output layer\n",
    "\n",
    "    def forward(self, x, edge_index):\n",
    "        for block in self.blocks:\n",
    "            x = block(x, edge_index)\n",
    "        x = self.final_conv(x)\n",
    "        return x.squeeze()\n",
    "\n"
   ]
  },
  {
   "cell_type": "code",
   "execution_count": null,
   "metadata": {},
   "outputs": [],
   "source": [
    "from torch_geometric.data import DataLoader\n",
    "from sklearn.metrics import mean_absolute_error\n",
    "\n",
    "# Assume you have your dataset loaded in a torch_geometric format\n",
    "# traffic_data is a PyTorch Geometric dataset\n",
    "# edge_index is the adjacency matrix edges of the graph\n",
    "\n",
    "def train(model, optimizer, data_loader):\n",
    "    model.train()\n",
    "    total_loss = 0\n",
    "    for data in data_loader:\n",
    "        optimizer.zero_grad()\n",
    "        out = model(data.x, data.edge_index)\n",
    "        loss = F.mse_loss(out, data.y)\n",
    "        loss.backward()\n",
    "        optimizer.step()\n",
    "        total_loss += loss.item()\n",
    "    return total_loss / len(data_loader)\n",
    "\n",
    "def test(model, data_loader):\n",
    "    model.eval()\n",
    "    preds, labels = [], []\n",
    "    for data in data_loader:\n",
    "        with torch.no_grad():\n",
    "            out = model(data.x, data.edge_index)\n",
    "            preds.append(out.cpu().numpy())\n",
    "            labels.append(data.y.cpu().numpy())\n",
    "    preds = np.concatenate(preds, axis=0)\n",
    "    labels = np.concatenate(labels, axis=0)\n",
    "    return mean_absolute_error(labels, preds)\n",
    "\n",
    "# Example setup\n",
    "model = STGCN(in_channels=1, out_channels=64, K=3, num_nodes=228, num_blocks=2)\n",
    "optimizer = torch.optim.Adam(model.parameters(), lr=1e-3)\n",
    "train_loader = DataLoader(traffic_data, batch_size=64, shuffle=True)\n",
    "test_loader = DataLoader(traffic_data, batch_size=64, shuffle=False)\n",
    "\n",
    "# Training loop\n",
    "for epoch in range(50):\n",
    "    train_loss = train(model, optimizer, train_loader)\n",
    "    test_mae = test(model, test_loader)\n",
    "    print(f\"Epoch {epoch+1}, Train Loss: {train_loss}, Test MAE: {test_mae}\")\n"
   ]
  },
  {
   "cell_type": "code",
   "execution_count": 7,
   "metadata": {},
   "outputs": [],
   "source": [
    "\n",
    "import torch\n",
    "from torch_geometric.data import Data\n",
    "\n",
    "adj_matrix = ...  # Load adjacency matrix W from PeMSD7\n",
    "features = ...    # Load node features X, such as traffic flow or speed data\n",
    "labels = ...      # Load labels, which might be future traffic flow for forecasting\n"
   ]
  },
  {
   "cell_type": "code",
   "execution_count": 8,
   "metadata": {},
   "outputs": [
    {
     "data": {
      "text/plain": [
       "Ellipsis"
      ]
     },
     "execution_count": 8,
     "metadata": {},
     "output_type": "execute_result"
    }
   ],
   "source": [
    "adj_matrix"
   ]
  },
  {
   "cell_type": "code",
   "execution_count": null,
   "metadata": {},
   "outputs": [],
   "source": [
    "dataset = PeMSDataset(root='/path/to/dataset')\n",
    "train_loader = DataLoader(dataset, batch_size=64, shuffle=True)\n",
    "test_loader = DataLoader(dataset, batch_size=64, shuffle=False)\n"
   ]
  }
 ],
 "metadata": {
  "kernelspec": {
   "display_name": ".venv",
   "language": "python",
   "name": "python3"
  },
  "language_info": {
   "codemirror_mode": {
    "name": "ipython",
    "version": 3
   },
   "file_extension": ".py",
   "mimetype": "text/x-python",
   "name": "python",
   "nbconvert_exporter": "python",
   "pygments_lexer": "ipython3",
   "version": "3.12.1"
  }
 },
 "nbformat": 4,
 "nbformat_minor": 2
}
